{
 "cells": [
  {
   "cell_type": "code",
   "execution_count": null,
   "metadata": {},
   "outputs": [],
   "source": [
    "Height = float (input(\"Enter your height in Centimeters: \"))\n",
    "Weight = float (input(\"Enter your weight in KGs \"))\n",
    "Height = Height/100\n",
    "\n",
    "BMI = Weight/(Height*Height)\n",
    "print(\"Your Body Mass Index is: \", BMI)\n",
    "\n",
    "if (BMI>0):\n",
    "        \n",
    "    if(BMI<=16):\n",
    "         print(\"You are Severely Under Weight\")\n",
    "            \n",
    "    elif(BMI<=18.5):\n",
    "         print(\"You are Under Weight\")\n",
    "            \n",
    "    elif(BMI<=25):\n",
    "         print(\"You are Healthy\")\n",
    "            \n",
    "    elif(BMI<=30):\n",
    "         print(\"You are Overweight\")\n",
    "    \n",
    "    else:print(\"You are severely Overweight\")\n",
    "        \n",
    "else:print(\"Enter Valid Details\")   \n",
    "            "
   ]
  },
  {
   "cell_type": "code",
   "execution_count": null,
   "metadata": {},
   "outputs": [],
   "source": []
  }
 ],
 "metadata": {
  "kernelspec": {
   "display_name": "Python 3",
   "language": "python",
   "name": "python3"
  },
  "language_info": {
   "codemirror_mode": {
    "name": "ipython",
    "version": 3
   },
   "file_extension": ".py",
   "mimetype": "text/x-python",
   "name": "python",
   "nbconvert_exporter": "python",
   "pygments_lexer": "ipython3",
   "version": "3.8.5"
  }
 },
 "nbformat": 4,
 "nbformat_minor": 4
}
