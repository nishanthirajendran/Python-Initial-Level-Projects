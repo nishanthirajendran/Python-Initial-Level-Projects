{
 "cells": [
  {
   "cell_type": "code",
   "execution_count": 1,
   "metadata": {},
   "outputs": [
    {
     "name": "stdout",
     "output_type": "stream",
     "text": [
      "Once upon a time, an elephant that lived in India, went to the amusement park and met a turtle. They both fight with each other.\n"
     ]
    }
   ],
   "source": [
    "import random\n",
    "when = ['A few years ago', 'Once upon a time', 'A long day ago', 'Yesterday']\n",
    "who = ['a rabit', 'a monkey', 'a turtle', 'an elephant', 'an ant']\n",
    "name = ['Ali', 'Micheal', 'Rob']\n",
    "residence = ['Germany', 'Norway', 'Buckingam', 'Finland', 'India']\n",
    "went = ['library', 'amusement park', 'latest movie in theater', 'seashore']\n",
    "happened = ['fell in love.', 'became a friends.', 'fight with each other.']\n",
    "print(random.choice(when)+', '+random.choice(who)+ ' that lived in '+random.choice(residence) + ', went to the '+ random.choice(went)+ ' and met '+random.choice(who)+ '. They both '+ random.choice(happened))\n"
   ]
  },
  {
   "cell_type": "code",
   "execution_count": 2,
   "metadata": {},
   "outputs": [
    {
     "name": "stdout",
     "output_type": "stream",
     "text": [
      "Once upon a time, a rabit that lived in Norway, went to the library and met an ant. They both fight with each other.\n"
     ]
    }
   ],
   "source": [
    "print(random.choice(when)+', '+random.choice(who)+ ' that lived in '+random.choice(residence) + ', went to the '+ random.choice(went)+ ' and met '+random.choice(who)+ '. They both '+ random.choice(happened))"
   ]
  },
  {
   "cell_type": "code",
   "execution_count": 3,
   "metadata": {},
   "outputs": [
    {
     "name": "stdout",
     "output_type": "stream",
     "text": [
      "Yesterday, an ant that lived in India, went to the seashore and met an ant. They both fight with each other.\n"
     ]
    }
   ],
   "source": [
    "print(random.choice(when)+', '+random.choice(who)+ ' that lived in '+random.choice(residence) + ', went to the '+ random.choice(went)+ ' and met '+random.choice(who)+ '. They both '+ random.choice(happened))"
   ]
  },
  {
   "cell_type": "code",
   "execution_count": null,
   "metadata": {},
   "outputs": [],
   "source": []
  }
 ],
 "metadata": {
  "kernelspec": {
   "display_name": "Python 3",
   "language": "python",
   "name": "python3"
  },
  "language_info": {
   "codemirror_mode": {
    "name": "ipython",
    "version": 3
   },
   "file_extension": ".py",
   "mimetype": "text/x-python",
   "name": "python",
   "nbconvert_exporter": "python",
   "pygments_lexer": "ipython3",
   "version": "3.8.5"
  }
 },
 "nbformat": 4,
 "nbformat_minor": 4
}
